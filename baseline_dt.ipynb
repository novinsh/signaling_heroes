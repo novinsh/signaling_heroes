{
 "cells": [
  {
   "cell_type": "code",
   "execution_count": 2,
   "metadata": {},
   "outputs": [],
   "source": [
    "import pandas as pd\n",
    "import numpy as np\n",
    "from matplotlib import pyplot as plt\n",
    "from sklearn.preprocessing import LabelEncoder\n",
    "from pandas import read_csv\n",
    "from pandas import datetime\n",
    "\n",
    "# load dataset\n",
    "data = pd.read_csv('datasets/training_data/training_data_attacks.csv')"
   ]
  },
  {
   "cell_type": "code",
   "execution_count": null,
   "metadata": {},
   "outputs": [],
   "source": [
    "len(data)"
   ]
  },
  {
   "cell_type": "code",
   "execution_count": null,
   "metadata": {
    "collapsed": true
   },
   "outputs": [],
   "source": [
    "# balance the labels\n",
    "# make \n",
    "# strategy to do something with the inf data\n",
    "# randomize the input\n",
    "# too slow, need multicore running, and feature selection, any other trick?"
   ]
  },
  {
   "cell_type": "code",
   "execution_count": null,
   "metadata": {},
   "outputs": [],
   "source": [
    "# data = data.astype('float32') # TODO: make sure it doesn't hurt!\n",
    "# data = data.drop(['Unnamed: 0'], axis=1)\n",
    "# data.reset_index(inplace=True)\n",
    "data.replace([np.inf, -np.inf], np.nan, inplace=True)\n",
    "data.head()"
   ]
  },
  {
   "cell_type": "code",
   "execution_count": null,
   "metadata": {},
   "outputs": [],
   "source": [
    "data.isnull().values.any()"
   ]
  },
  {
   "cell_type": "code",
   "execution_count": null,
   "metadata": {
    "scrolled": true
   },
   "outputs": [],
   "source": [
    "# Check Nan values\n",
    "plt.imshow(data.isnull(), aspect='auto')\n",
    "plt.xlabel('Feature space')\n",
    "plt.ylabel('Sample space')\n",
    "plt.show()\n",
    "\n",
    "print(\"total number of null cells: \", np.sum(np.sum(data.isnull())))\n",
    "np.sum(data.isnull())"
   ]
  },
  {
   "cell_type": "code",
   "execution_count": null,
   "metadata": {},
   "outputs": [],
   "source": [
    "# https://stackoverflow.com/questions/29803093/check-which-columns-in-dataframe-are-categorical\n",
    "data._get_numeric_data().columns.values in data.columns.values # all numerical no categorical data to worry about!"
   ]
  },
  {
   "cell_type": "code",
   "execution_count": null,
   "metadata": {},
   "outputs": [],
   "source": [
    "len(data)"
   ]
  },
  {
   "cell_type": "code",
   "execution_count": null,
   "metadata": {},
   "outputs": [],
   "source": [
    "np.min(data)\n",
    "np.max(data)"
   ]
  },
  {
   "cell_type": "code",
   "execution_count": null,
   "metadata": {
    "collapsed": true
   },
   "outputs": [],
   "source": []
  },
  {
   "cell_type": "code",
   "execution_count": 4,
   "metadata": {},
   "outputs": [
    {
     "name": "stdout",
     "output_type": "stream",
     "text": [
      "validation size:  113312\n",
      "train size:  (264397, 120)\n",
      "test size:  (113312, 120)\n"
     ]
    },
    {
     "data": {
      "text/plain": [
       "KNeighborsClassifier(algorithm='auto', leaf_size=30, metric='minkowski',\n",
       "           metric_params=None, n_jobs=1, n_neighbors=5, p=2,\n",
       "           weights='uniform')"
      ]
     },
     "execution_count": 4,
     "metadata": {},
     "output_type": "execute_result"
    }
   ],
   "source": [
    "from sklearn import *\n",
    "from xgboost import XGBRegressor\n",
    "\n",
    "def RMSE(y, yhat):\n",
    "    return metrics.mean_squared_error(y, yhat)**0.5\n",
    "\n",
    "# hold-out \n",
    "valid_size = int(len(data) * 30 /100)\n",
    "# split\n",
    "X_train = data[:-valid_size]\n",
    "X_valid = data[-valid_size:]\n",
    "\n",
    "print(\"validation size: \", valid_size)\n",
    "print(\"train size: \", X_train.shape)\n",
    "print(\"test size: \", X_valid.shape)\n",
    "\n",
    "\n",
    "# model1 = ensemble.GradientBoostingClassifier(learning_rate=0.2, random_state=3, n_estimators=100, subsample=0.8, \n",
    "#                       max_depth =10)\n",
    "model2 = neighbors.KNeighborsClassifier(neighbors=5)#njobs=-1, neighbors=5)\n",
    "# model3 = XGBClassifier(learning_rate=0.1, random_state=3, n_estimators=200, subsample=0.7, \n",
    "#                       colsample_bytree=0.8, max_depth =12)\n",
    "# model4 = ensemble.RandomForestClassifier(random_state=3, max_depth=10)\n",
    "# model5 = ensemble.AdaBoostClassifier(random_state=3, n_estimators=50, learning_rate=0.1, loss='square')\n",
    "# model6 = ensemble.ExtraTreesClassifier(random_state=3, max_depth=10)\n",
    "# model7 = ensemble.BaggingClassifier(random_state=3)\n",
    "\n",
    "col = [c for c in data if c not in ['label']]\n",
    "\n",
    "# model1.fit(X_train[col], X_train['label'].values)\n",
    "model2.fit(X_train[col], X_train['label'].values)\n",
    "# model3.fit(X_train[col], X_train['label'].values)\n",
    "# model4.fit(X_train[col], X_train['label'].values)\n",
    "# model5.fit(X_train[col], X_train['label'].values)\n",
    "# model6.fit(X_train[col], X_train['label'].values)\n",
    "# model7.fit(X_train[col], X_train['label'].values)\n",
    "\n"
   ]
  },
  {
   "cell_type": "markdown",
   "metadata": {},
   "source": [
    "### Train Prediction"
   ]
  },
  {
   "cell_type": "code",
   "execution_count": null,
   "metadata": {
    "collapsed": true
   },
   "outputs": [],
   "source": [
    "# preds1 = model1.predict(X_train[col])\n",
    "preds2 = model2.predict(X_train[col])\n",
    "# preds3 = model3.predict(X_train[col])\n",
    "# preds4 = model4.predict(X_train[col])\n",
    "# preds5 = model5.predict(X_train[col])\n",
    "# preds6 = model6.predict(X_train[col])\n",
    "# preds7 = model7.predict(X_train[col])\n",
    "\n",
    "# rmse1 = RMSE(X_train['amount_daily'].values, preds1)\n",
    "rmse2 = RMSE(X_train['label'].values, preds2)\n",
    "# rmse3 = RMSE(X_train['amount_daily'].values, preds3)\n",
    "# rmse4 = RMSE(X_train['amount_daily'].values, preds4)\n",
    "# rmse5 = RMSE(X_train['amount_daily'].values, preds5)\n",
    "# rmse6 = RMSE(X_train['amount_daily'].values, preds6)\n",
    "# rmse7 = RMSE(X_train['amount_daily'].values, preds7)\n",
    "\n",
    "# print(\"## Train set loss: \")\n",
    "# print('RMSE GradientBoostingRegressor: ', rmse1)\n",
    "print('RMSE KNeighborsRegressor: ', rmse2)\n",
    "# print('RMSE XGBRegressor: ', rmse3)\n",
    "# print('RMSE RandomForestRegressor: ', rmse4)\n",
    "# print('RMSE AdaBoostRegressor: ', rmse5)\n",
    "# print('RMSE ExtraTreesRegressor: ', rmse6)\n",
    "# print('RMSE BaggingRegressor: ', rmse7)\n"
   ]
  },
  {
   "cell_type": "markdown",
   "metadata": {},
   "source": [
    "### Valid Prediction"
   ]
  },
  {
   "cell_type": "code",
   "execution_count": null,
   "metadata": {},
   "outputs": [],
   "source": [
    "# preds1 = model1.predict(X_valid[col])\n",
    "preds2 = model2.predict(X_valid[col])\n",
    "# preds3 = model3.predict(X_valid[col])\n",
    "# preds4 = model4.predict(X_valid[col])\n",
    "# preds5 = model5.predict(X_valid[col])\n",
    "# preds6 = model6.predict(X_valid[col])\n",
    "# preds7 = model7.predict(X_valid[col])\n",
    "# print(\"-\"*10)\n",
    "\n",
    "\n",
    "# rmse1 = RMSE(X_valid['amount_daily'].values, preds1)\n",
    "rmse2 = RMSE(X_valid['label'].values, preds2)\n",
    "# rmse3 = RMSE(X_valid['amount_daily'].values, preds3)\n",
    "# rmse4 = RMSE(X_valid['amount_daily'].values, preds4)\n",
    "# rmse5 = RMSE(X_valid['amount_daily'].values, preds5)\n",
    "# rmse6 = RMSE(X_valid['amount_daily'].values, preds6)\n",
    "# rmse7 = RMSE(X_valid['amount_daily'].values, preds7)\n",
    "\n",
    "\n",
    "# print(\"## Valid set loss: \")\n",
    "# print('RMSE GradientBoostingRegressor: ', rmse1)\n",
    "print('RMSE KNeighborsRegressor: ', rmse2)\n",
    "# print('RMSE XGBRegressor: ', rmse3)\n",
    "# print('RMSE RandomForestRegressor: ', rmse4)\n",
    "# print('RMSE AdaBoostRegressor: ', rmse5)\n",
    "# print('RMSE ExtraTreesRegressor: ', rmse6)\n",
    "# print('RMSE BaggingRegressor: ', rmse7)"
   ]
  },
  {
   "cell_type": "code",
   "execution_count": null,
   "metadata": {
    "collapsed": true
   },
   "outputs": [],
   "source": []
  }
 ],
 "metadata": {
  "kernelspec": {
   "display_name": "Python 3",
   "language": "python",
   "name": "python3"
  },
  "varInspector": {
   "cols": {
    "lenName": 16,
    "lenType": 16,
    "lenVar": 40
   },
   "kernels_config": {
    "python": {
     "delete_cmd_postfix": "",
     "delete_cmd_prefix": "del ",
     "library": "var_list.py",
     "varRefreshCmd": "print(var_dic_list())"
    },
    "r": {
     "delete_cmd_postfix": ") ",
     "delete_cmd_prefix": "rm(",
     "library": "var_list.r",
     "varRefreshCmd": "cat(var_dic_list()) "
    }
   },
   "types_to_exclude": [
    "module",
    "function",
    "builtin_function_or_method",
    "instance",
    "_Feature"
   ],
   "window_display": false
  }
 },
 "nbformat": 4,
 "nbformat_minor": 2
}
