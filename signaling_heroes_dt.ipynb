{
 "cells": [
  {
   "cell_type": "code",
   "execution_count": 1,
   "metadata": {
    "collapsed": true
   },
   "outputs": [],
   "source": [
    "import pandas as pd\n",
    "import numpy as np\n",
    "from matplotlib import pyplot as plt\n",
    "from pandas import read_csv\n",
    "from pandas import datetime\n",
    "from time import time\n",
    "from tqdm import tqdm_notebook as tqdm\n",
    "\n",
    "# load dataset\n",
    "data_attck = pd.read_csv('datasets/training_data/training_data_attacks.csv', dtype=np.longdouble) \n",
    "data_train = pd.read_csv('datasets/training_data/training_data.csv', dtype=np.longdouble)"
   ]
  },
  {
   "cell_type": "markdown",
   "metadata": {},
   "source": [
    "## Preparation and feature selection"
   ]
  },
  {
   "cell_type": "code",
   "execution_count": 4,
   "metadata": {},
   "outputs": [
    {
     "data": {
      "application/vnd.jupyter.widget-view+json": {
       "model_id": "66e2b84476fb4287ae3ddb65b47117b4",
       "version_major": 2,
       "version_minor": 0
      },
      "text/plain": [
       "A Jupyter Widget"
      ]
     },
     "metadata": {},
     "output_type": "display_data"
    }
   ],
   "source": [
    "# Select features (all or multiple)\n",
    "# these features were found best from the feature selection notebook!\n",
    "%run utils/ui_feature_selection.py"
   ]
  },
  {
   "cell_type": "code",
   "execution_count": 5,
   "metadata": {},
   "outputs": [
    {
     "name": "stdout",
     "output_type": "stream",
     "text": [
      "False\n",
      "True\n"
     ]
    }
   ],
   "source": [
    "# make sure all features exist in the datasets\n",
    "mask_tmp = []\n",
    "for m in mask_init:\n",
    "    if (m in data_train.columns.values) and \\\n",
    "            (m in data_attck.columns.values):\n",
    "        mask_tmp.append(m)\n",
    "mask = mask_tmp\n",
    "\n",
    "# data_chal2 = data_chal2.loc[:,mask] # not possible for chal2\n",
    "mask.append('label')\n",
    "data_train = data_train.loc[:,mask]\n",
    "data_attck = data_attck.loc[:,mask]\n",
    "\n",
    "# sanity checks\n",
    "# data_attck = data_attck.drop(['Unnamed: 0'], axis=1)\n",
    "print(data_attck.isnull().values.any())\n",
    "print(data_train.isnull().values.any())\n",
    "\n",
    "# Columns matching\n",
    "for i, c in enumerate(data_attck.columns.values):\n",
    "#     assert data_chal2.columns[i] == c\n",
    "#     assert data_chal1.columns[i] == c\n",
    "    assert data_train.columns[i] == c"
   ]
  },
  {
   "cell_type": "code",
   "execution_count": 6,
   "metadata": {},
   "outputs": [
    {
     "name": "stdout",
     "output_type": "stream",
     "text": [
      "True\n"
     ]
    },
    {
     "data": {
      "image/png": "[encoded data removed]",
      "text/plain": [
       "<matplotlib.figure.Figure at 0x7fd292f34be0>"
      ]
     },
     "metadata": {},
     "output_type": "display_data"
    },
    {
     "name": "stdout",
     "output_type": "stream",
     "text": [
      "total number of null cells:  4094654\n"
     ]
    }
   ],
   "source": [
    "# Check Nan values\n",
    "print(data_train.isnull().values.any())\n",
    "plt.imshow(data_train.isnull(), aspect='auto')\n",
    "plt.xlabel('Feature space')\n",
    "plt.ylabel('Sample space')\n",
    "plt.show()\n",
    "\n",
    "print(\"total number of null cells: \", np.sum(np.sum(data_train.isnull())))\n",
    "np.sum(data_train.isnull())\n",
    "\n",
    "data_train['label'].fillna(0, inplace=True)"
   ]
  },
  {
   "cell_type": "markdown",
   "metadata": {},
   "source": [
    "## Train"
   ]
  },
  {
   "cell_type": "code",
   "execution_count": 7,
   "metadata": {},
   "outputs": [
    {
     "name": "stdout",
     "output_type": "stream",
     "text": [
      "Model Weights: \n"
     ]
    },
    {
     "data": {
      "application/vnd.jupyter.widget-view+json": {
       "model_id": "67124e048a4f402c98adbe99c0f8a5d6",
       "version_major": 2,
       "version_minor": 0
      },
      "text/plain": [
       "A Jupyter Widget"
      ]
     },
     "metadata": {},
     "output_type": "display_data"
    },
    {
     "data": {
      "application/vnd.jupyter.widget-view+json": {
       "model_id": "462c8c2c363e426db7d371a8c9e19f65",
       "version_major": 2,
       "version_minor": 0
      },
      "text/plain": [
       "A Jupyter Widget"
      ]
     },
     "metadata": {},
     "output_type": "display_data"
    }
   ],
   "source": [
    "# Some global settings for the training process\n",
    "# Instructions:\n",
    "#   You probaby want to run first with 'hard voting' where considers most frequent\n",
    "#   result from models. Then based on the result of each model, run the second time \n",
    "#   with 'soft voting' where considers each model with a weight and you can hand tune!\n",
    "#   random state is only to ensure replicatability!\n",
    "#   NB: weights only effective under 'soft' voting!\n",
    "%run utils/ui_train_control.py"
   ]
  },
  {
   "cell_type": "code",
   "execution_count": 41,
   "metadata": {
    "scrolled": false
   },
   "outputs": [
    {
     "name": "stdout",
     "output_type": "stream",
     "text": [
      "Global settings: \n",
      "\tModels weights:  [1, 1, 2, 4]\n",
      "\tVoting type:  soft\n",
      "\trandom state:  3\n",
      "\n",
      "fitting..\n"
     ]
    },
    {
     "data": {
      "application/vnd.jupyter.widget-view+json": {
       "model_id": "147b0a80b7d84825af3501cd5dcb79fe",
       "version_major": 2,
       "version_minor": 0
      },
      "text/plain": [
       "A Jupyter Widget"
      ]
     },
     "metadata": {},
     "output_type": "display_data"
    },
    {
     "name": "stdout",
     "output_type": "stream",
     "text": [
      "\n",
      "\n",
      "evaluating..\n"
     ]
    },
    {
     "data": {
      "application/vnd.jupyter.widget-view+json": {
       "model_id": "da79efe5aa304843b0f39faabd219fc9",
       "version_major": 2,
       "version_minor": 0
      },
      "text/plain": [
       "A Jupyter Widget"
      ]
     },
     "metadata": {},
     "output_type": "display_data"
    },
    {
     "name": "stdout",
     "output_type": "stream",
     "text": [
      "f1-score: 0.99 (+/- 0.02) [Random Forest]\n",
      "f1-score: 1.00 (+/- 0.00) [AdaBoost]\n",
      "f1-score: 0.92 (+/- 0.04) [Extra Trees]\n"
     ]
    },
    {
     "name": "stderr",
     "output_type": "stream",
     "text": [
      "/opt/anaconda3/lib/python3.6/site-packages/sklearn/externals/joblib/parallel.py:547: UserWarning:\n",
      "\n",
      "Multiprocessing-backed parallel loops cannot be nested, setting n_jobs=1\n",
      "\n",
      "/opt/anaconda3/lib/python3.6/site-packages/sklearn/externals/joblib/parallel.py:547: UserWarning:\n",
      "\n",
      "Multiprocessing-backed parallel loops cannot be nested, setting n_jobs=1\n",
      "\n",
      "/opt/anaconda3/lib/python3.6/site-packages/sklearn/externals/joblib/parallel.py:547: UserWarning:\n",
      "\n",
      "Multiprocessing-backed parallel loops cannot be nested, setting n_jobs=1\n",
      "\n",
      "/opt/anaconda3/lib/python3.6/site-packages/sklearn/externals/joblib/parallel.py:547: UserWarning:\n",
      "\n",
      "Multiprocessing-backed parallel loops cannot be nested, setting n_jobs=1\n",
      "\n",
      "/opt/anaconda3/lib/python3.6/site-packages/sklearn/externals/joblib/parallel.py:547: UserWarning:\n",
      "\n",
      "Multiprocessing-backed parallel loops cannot be nested, setting n_jobs=1\n",
      "\n",
      "/opt/anaconda3/lib/python3.6/site-packages/sklearn/externals/joblib/parallel.py:547: UserWarning:\n",
      "\n",
      "Multiprocessing-backed parallel loops cannot be nested, setting n_jobs=1\n",
      "\n",
      "/opt/anaconda3/lib/python3.6/site-packages/sklearn/externals/joblib/parallel.py:547: UserWarning:\n",
      "\n",
      "Multiprocessing-backed parallel loops cannot be nested, setting n_jobs=1\n",
      "\n",
      "/opt/anaconda3/lib/python3.6/site-packages/sklearn/externals/joblib/parallel.py:547: UserWarning:\n",
      "\n",
      "Multiprocessing-backed parallel loops cannot be nested, setting n_jobs=1\n",
      "\n",
      "/opt/anaconda3/lib/python3.6/site-packages/sklearn/externals/joblib/parallel.py:547: UserWarning:\n",
      "\n",
      "Multiprocessing-backed parallel loops cannot be nested, setting n_jobs=1\n",
      "\n"
     ]
    },
    {
     "name": "stdout",
     "output_type": "stream",
     "text": [
      "f1-score: 1.00 (+/- 0.00) [Bagging]\n"
     ]
    },
    {
     "name": "stderr",
     "output_type": "stream",
     "text": [
      "/opt/anaconda3/lib/python3.6/site-packages/sklearn/externals/joblib/parallel.py:547: UserWarning:\n",
      "\n",
      "Multiprocessing-backed parallel loops cannot be nested, setting n_jobs=1\n",
      "\n",
      "/opt/anaconda3/lib/python3.6/site-packages/sklearn/externals/joblib/parallel.py:547: UserWarning:\n",
      "\n",
      "Multiprocessing-backed parallel loops cannot be nested, setting n_jobs=1\n",
      "\n",
      "/opt/anaconda3/lib/python3.6/site-packages/sklearn/externals/joblib/parallel.py:547: UserWarning:\n",
      "\n",
      "Multiprocessing-backed parallel loops cannot be nested, setting n_jobs=1\n",
      "\n",
      "/opt/anaconda3/lib/python3.6/site-packages/sklearn/externals/joblib/parallel.py:547: UserWarning:\n",
      "\n",
      "Multiprocessing-backed parallel loops cannot be nested, setting n_jobs=1\n",
      "\n",
      "/opt/anaconda3/lib/python3.6/site-packages/sklearn/externals/joblib/parallel.py:547: UserWarning:\n",
      "\n",
      "Multiprocessing-backed parallel loops cannot be nested, setting n_jobs=1\n",
      "\n",
      "/opt/anaconda3/lib/python3.6/site-packages/sklearn/preprocessing/label.py:151: DeprecationWarning:\n",
      "\n",
      "The truth value of an empty array is ambiguous. Returning False, but in future this will result in an error. Use `array.size > 0` to check that an array is not empty.\n",
      "\n",
      "/opt/anaconda3/lib/python3.6/site-packages/sklearn/externals/joblib/parallel.py:547: UserWarning:\n",
      "\n",
      "Multiprocessing-backed parallel loops cannot be nested, setting n_jobs=1\n",
      "\n",
      "/opt/anaconda3/lib/python3.6/site-packages/sklearn/preprocessing/label.py:151: DeprecationWarning:\n",
      "\n",
      "The truth value of an empty array is ambiguous. Returning False, but in future this will result in an error. Use `array.size > 0` to check that an array is not empty.\n",
      "\n",
      "/opt/anaconda3/lib/python3.6/site-packages/sklearn/externals/joblib/parallel.py:547: UserWarning:\n",
      "\n",
      "Multiprocessing-backed parallel loops cannot be nested, setting n_jobs=1\n",
      "\n",
      "/opt/anaconda3/lib/python3.6/site-packages/sklearn/preprocessing/label.py:151: DeprecationWarning:\n",
      "\n",
      "The truth value of an empty array is ambiguous. Returning False, but in future this will result in an error. Use `array.size > 0` to check that an array is not empty.\n",
      "\n",
      "/opt/anaconda3/lib/python3.6/site-packages/sklearn/externals/joblib/parallel.py:547: UserWarning:\n",
      "\n",
      "Multiprocessing-backed parallel loops cannot be nested, setting n_jobs=1\n",
      "\n",
      "/opt/anaconda3/lib/python3.6/site-packages/sklearn/preprocessing/label.py:151: DeprecationWarning:\n",
      "\n",
      "The truth value of an empty array is ambiguous. Returning False, but in future this will result in an error. Use `array.size > 0` to check that an array is not empty.\n",
      "\n",
      "/opt/anaconda3/lib/python3.6/site-packages/sklearn/externals/joblib/parallel.py:547: UserWarning:\n",
      "\n",
      "Multiprocessing-backed parallel loops cannot be nested, setting n_jobs=1\n",
      "\n",
      "/opt/anaconda3/lib/python3.6/site-packages/sklearn/externals/joblib/parallel.py:547: UserWarning:\n",
      "\n",
      "Multiprocessing-backed parallel loops cannot be nested, setting n_jobs=1\n",
      "\n",
      "/opt/anaconda3/lib/python3.6/site-packages/sklearn/preprocessing/label.py:151: DeprecationWarning:\n",
      "\n",
      "The truth value of an empty array is ambiguous. Returning False, but in future this will result in an error. Use `array.size > 0` to check that an array is not empty.\n",
      "\n"
     ]
    },
    {
     "name": "stdout",
     "output_type": "stream",
     "text": [
      "f1-score: 1.00 (+/- 0.00) [Voting Ensemble]\n",
      "\n"
     ]
    }
   ],
   "source": [
    "from sklearn import *\n",
    "from sklearn.cross_validation import cross_val_score\n",
    "from sklearn.metrics import f1_score\n",
    "from sklearn import model_selection\n",
    "\n",
    "col = [c for c in data_attck if c not in ['label']]\n",
    "\n",
    "X = data_attck[col] \n",
    "y = data_attck['label']\n",
    "\n",
    "print(\"Global settings: \")\n",
    "print(\"\\tModels weights: \", weights)\n",
    "print(\"\\tVoting type: \", voting_type)\n",
    "print(\"\\trandom state: \", rs)\n",
    "\n",
    "# Models\n",
    "clf1 = ensemble.RandomForestClassifier(random_state=rs, max_depth=8, n_jobs=-1)\n",
    "clf2 = ensemble.AdaBoostClassifier(random_state=rs, n_estimators=100, learning_rate=0.1)\n",
    "clf3 = ensemble.ExtraTreesClassifier(random_state=rs, max_depth=8, n_jobs=-1)\n",
    "clf4 = ensemble.BaggingClassifier(random_state=rs, n_jobs=-1)\n",
    "eclf = ensemble.VotingClassifier(estimators=[('rf', clf1), ('ada', clf2), \n",
    "                                             ('xtr', clf3), ('bg', clf4)], \n",
    "                                 voting=voting_type, weights=weights)\n",
    "\n",
    "# Fit the models\n",
    "print(\"\\nfitting..\")\n",
    "for clf in tqdm([clf1, clf2, clf3, clf4, eclf], total=5):\n",
    "    clf.fit(X,y)\n",
    "    clf.fit(X,y)\n",
    "    clf.fit(X,y)\n",
    "    clf.fit(X,y)\n",
    "    clf.fit(X,y)\n",
    "\n",
    "# Cross-validation evaluation\n",
    "print(\"\\nevaluating..\")\n",
    "for clf, label in tqdm(zip([clf1, clf2, clf3, clf4, eclf], \\\n",
    "                      ['Random Forest', 'AdaBoost', \n",
    "                       'Extra Trees', 'Bagging', 'Voting Ensemble']), total=5):\n",
    "    scores = cross_val_score(clf, X, y, cv=5, scoring='f1_macro', n_jobs=-1)\n",
    "    print(\"f1-score: %0.2f (+/- %0.2f) [%s]\" % (scores.mean(), scores.std(), label))"
   ]
  },
  {
   "cell_type": "markdown",
   "metadata": {},
   "source": [
    "## Classifiers debugging"
   ]
  },
  {
   "cell_type": "code",
   "execution_count": 42,
   "metadata": {},
   "outputs": [
    {
     "data": {
      "application/vnd.jupyter.widget-view+json": {
       "model_id": "49ed839966564fd0984dbfee915af148",
       "version_major": 2,
       "version_minor": 0
      },
      "text/plain": [
       "A Jupyter Widget"
      ]
     },
     "metadata": {},
     "output_type": "display_data"
    }
   ],
   "source": [
    "%run utils/roc_auc.py\n",
    "    \n",
    "from ipywidgets import interact\n",
    "import ipywidgets as widgets\n",
    "\n",
    "get_classifier = {\n",
    "    'Random Forest': clf1,\n",
    "    'AdaBoost': clf2, \n",
    "    'ExtraTrees': clf3, \n",
    "    'Bagging': clf4, \n",
    "    'Voting': eclf\n",
    "}\n",
    "\n",
    "def map_classifiers(classifier):\n",
    "    if classifier == '':\n",
    "        return\n",
    "    classifier_roc(get_classifier[classifier], X, y)\n",
    "\n",
    "interact(map_classifiers, classifier=['', 'Random Forest','AdaBoost', 'ExtraTrees', 'Bagging', 'Voting']);\n"
   ]
  },
  {
   "cell_type": "markdown",
   "metadata": {},
   "source": [
    "## Test and Prediction Result"
   ]
  },
  {
   "cell_type": "code",
   "execution_count": 51,
   "metadata": {},
   "outputs": [
    {
     "name": "stderr",
     "output_type": "stream",
     "text": [
      "/opt/anaconda3/lib/python3.6/site-packages/sklearn/preprocessing/label.py:151: DeprecationWarning:\n",
      "\n",
      "The truth value of an empty array is ambiguous. Returning False, but in future this will result in an error. Use `array.size > 0` to check that an array is not empty.\n",
      "\n"
     ]
    },
    {
     "name": "stdout",
     "output_type": "stream",
     "text": [
      "total number of attacks detected:  33.0\n",
      "Individual models prediction: \n",
      "\ttotal number of attacks model 1:  33.0\n",
      "\ttotal number of attacks model 2:  33.0\n",
      "\ttotal number of attacks model 3:  14.0\n",
      "\ttotal number of attacks model 4:  33.0\n"
     ]
    }
   ],
   "source": [
    "from sklearn.metrics import mean_squared_error as mse\n",
    "\n",
    "data_test = pd.read_csv(\"datasets/testing_data/testing_data.csv\")\n",
    "X_test = data_test.loc[:,mask[:-1]]\n",
    "# X_test = X.loc[np.random.randint(0, len(X), 100), :]\n",
    "# y_test = y.loc[np.random.randint(0, len(X), 100)] # Not on the final dataset۱\n",
    "\n",
    "y_pred = eclf.predict(X_test)\n",
    "# print(\"MSE: \", mse(y_test, y_pred))\n",
    "# print(\"f1-score: \", f1_score(y_test, y_pred, average='macro'))\n",
    "\n",
    "result = pd.DataFrame(y_pred, index=X_test.index, columns=['Prediction'])\n",
    "result.to_csv(\"predictions.csv\")\n",
    "print(\"total number of attacks detected: \", result['Prediction'].sum())\n",
    "\n",
    "\n",
    "print(\"Individual models prediction: \")\n",
    "y_pred1 = clf1.predict(X_test)\n",
    "print(\"\\ttotal number of attacks model 1: \", np.sum(y_pred1))\n",
    "y_pred2 = clf2.predict(X_test)\n",
    "print(\"\\ttotal number of attacks model 2: \", np.sum(y_pred2))\n",
    "y_pred3 = clf3.predict(X_test)\n",
    "print(\"\\ttotal number of attacks model 3: \", np.sum(y_pred3))\n",
    "y_pred4 = clf4.predict(X_test)\n",
    "print(\"\\ttotal number of attacks model 4: \", np.sum(y_pred4))"
   ]
  },
  {
   "cell_type": "markdown",
   "metadata": {},
   "source": [
    "## Visualization"
   ]
  },
  {
   "cell_type": "code",
   "execution_count": 52,
   "metadata": {
    "collapsed": true
   },
   "outputs": [],
   "source": [
    "from sklearn.decomposition import PCA\n",
    "from sklearn.preprocessing import StandardScaler\n",
    "import plotly\n",
    "import plotly.graph_objs as go\n",
    "\n",
    "scaler = StandardScaler()\n",
    "X_scaled = scaler.fit_transform(X)\n",
    "X_test_scaled = scaler.transform(X_test)\n",
    "\n",
    "pca = PCA(n_components=3)\n",
    "pca_train = pca.fit_transform(X_scaled)\n",
    "pca_test = pca.transform(X_test_scaled)"
   ]
  },
  {
   "cell_type": "markdown",
   "metadata": {},
   "source": [
    "### PCA on Train Data"
   ]
  },
  {
   "cell_type": "code",
   "execution_count": 55,
   "metadata": {},
   "outputs": [
    {
     "data": {
      "text/plain": [
       "'file:///home/novin/workspace/ericsson/signaling_heroes/signalingheroes_traindata.html'"
      ]
     },
     "execution_count": 55,
     "metadata": {},
     "output_type": "execute_result"
    }
   ],
   "source": [
    "# Reorder the labels to have colors matching the cluster results\n",
    "ycol = np.choose(y.astype(int), [1, 2, 0]).astype(np.float)\n",
    "\n",
    "layout = go.Layout(scene=\n",
    "                   dict(\n",
    "                        xaxis=dict(ticks='', showticklabels=False),\n",
    "                        yaxis=dict(ticks='', showticklabels=False),\n",
    "                        zaxis=dict(ticks='', showticklabels=False),\n",
    "                       )\n",
    "                  )\n",
    "\n",
    "trace = go.Scatter3d(x=pca_train[:, 0], y=pca_train[:, 1], z=pca_train[:, 2], \n",
    "                     mode='markers',\n",
    "                     marker=dict(color=ycol,\n",
    "                                 line=dict(color='black', width=1))\n",
    "                     )\n",
    "\n",
    "fig = go.Figure(data=[trace], layout=layout)\n",
    "plotly.offline.plot(fig, filename='signalingheroes_traindata.html')"
   ]
  },
  {
   "cell_type": "markdown",
   "metadata": {},
   "source": [
    "### PCA on test Data"
   ]
  },
  {
   "cell_type": "code",
   "execution_count": 54,
   "metadata": {},
   "outputs": [
    {
     "data": {
      "text/plain": [
       "'file:///home/novin/workspace/ericsson/signaling_heroes/signalingheroes_traindata.html'"
      ]
     },
     "execution_count": 54,
     "metadata": {},
     "output_type": "execute_result"
    }
   ],
   "source": [
    "# Reorder the labels to have colors matching the cluster results\n",
    "ycol = np.choose(y_test.astype(int), [1, 2, 0]).astype(np.float)\n",
    "\n",
    "trace = go.Scatter3d(x=pca_test[:, 0], y=pca_test[:, 1], z=pca_test[:, 2], \n",
    "                     mode='markers',\n",
    "                     marker=dict(color=ycol,\n",
    "                                 line=dict(color='black', width=1))\n",
    "                     )\n",
    "\n",
    "fig = go.Figure(data=[trace], layout=layout)\n",
    "plotly.offline.plot(fig, filename='signalingheroes_traindata.html')"
   ]
  }
 ],
 "metadata": {
  "kernelspec": {
   "display_name": "Python 3",
   "language": "python",
   "name": "python3"
  },
  "language_info": {
   "codemirror_mode": {
    "name": "ipython",
    "version": 3
   },
   "file_extension": ".py",
   "mimetype": "text/x-python",
   "name": "python",
   "nbconvert_exporter": "python",
   "pygments_lexer": "ipython3",
   "version": "3.6.6"
  },
  "varInspector": {
   "cols": {
    "lenName": 16,
    "lenType": 16,
    "lenVar": 40
   },
   "kernels_config": {
    "python": {
     "delete_cmd_postfix": "",
     "delete_cmd_prefix": "del ",
     "library": "var_list.py",
     "varRefreshCmd": "print(var_dic_list())"
    },
    "r": {
     "delete_cmd_postfix": ") ",
     "delete_cmd_prefix": "rm(",
     "library": "var_list.r",
     "varRefreshCmd": "cat(var_dic_list()) "
    }
   },
   "types_to_exclude": [
    "module",
    "function",
    "builtin_function_or_method",
    "instance",
    "_Feature"
   ],
   "window_display": false
  }
 },
 "nbformat": 4,
 "nbformat_minor": 2
}
